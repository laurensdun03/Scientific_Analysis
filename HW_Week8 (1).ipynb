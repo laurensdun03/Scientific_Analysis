{
 "cells": [
  {
   "cell_type": "markdown",
   "metadata": {},
   "source": [
    "# PHYS 20323/60323 Homework Week 8\n",
    "\n",
    "FALL 2022\n"
   ]
  },
  {
   "cell_type": "markdown",
   "metadata": {},
   "source": [
    "### 1) Altitude of a satellite\n",
    "\n",
    "A satellite is to be launched into a circular orbit around the Earth so that it orbits the planet once every T seconds.\n",
    "\n",
    "The altitude h above the Earth’s surface that the satellite must have is:\n",
    "\n",
    "$$h = \\left( \\frac{G M T^2}{4\\pi^2} \\right)^{1/3} - R$$\n",
    "\n",
    "where $G = 6.67 \\times 10^{-11}$ m$^3$ kg$^{-1}$ s$^{-2}$\n",
    "is Newton's gravitational constant, $M = 5.97 \\times 10^{24}$ kg is the mass of the Earth, and $R = 6371$ km is its radius.\n",
    "\n",
    "#### Write a program that asks the user to enter the desired value of T and then calculates and prints out the correct altitude in meters.\n"
   ]
  },
  {
   "cell_type": "code",
   "execution_count": 24,
   "metadata": {},
   "outputs": [
    {
     "name": "stdout",
     "output_type": "stream",
     "text": [
      "Enter T value (in minutes):45\n",
      "-2181559.8978108233 m\n"
     ]
    }
   ],
   "source": [
    "# enter the desired value of T to calculate the amplitude h above the Earth's surface\n",
    "t = int(input(\"Enter T value (in minutes):\"))\n",
    "#change time to seconds\n",
    "t_seconds = t * 60\n",
    "\n",
    "import math\n",
    "\n",
    "g = (6.67 * (10**-11))\n",
    "m = 5.97 * 10**24\n",
    "#convert km to m\n",
    "r = 6371 *1000\n",
    "\n",
    "altitude = (((g * m * (t_seconds**2)) / (4 * (math.pi**2))) **(1/3)) - r\n",
    "print (altitude, 'm')"
   ]
  },
  {
   "cell_type": "markdown",
   "metadata": {},
   "source": [
    "Use your program to calculate the altitudes of satellites that orbit the Earth once\n",
    "a day (so-called “geosynchronous” orbit), once every 90 minutes, and once every\n",
    "45 minutes. What do you conclude from the last of these calculations?\n",
    "\n",
    "\n",
    "\n"
   ]
  },
  {
   "cell_type": "code",
   "execution_count": 25,
   "metadata": {},
   "outputs": [
    {
     "name": "stdout",
     "output_type": "stream",
     "text": [
      "Enter T value (in minutes):90\n",
      "279321.62537285965 m\n"
     ]
    }
   ],
   "source": [
    "# enter the desired value of T to calculate the amplitude h above the Earth's surface\n",
    "t = int(input(\"Enter T value (in minutes):\"))\n",
    "t_seconds = t * 60\n",
    "import math\n",
    "\n",
    "g = (6.67 * (10**-11))\n",
    "m = 5.97 * 10**24\n",
    "r = 6371 *1000\n",
    "\n",
    "altitude = (((g * m * (t_seconds**2)) / (4 * (math.pi**2))) **(1/3)) - r\n",
    "print (altitude, 'm')"
   ]
  },
  {
   "cell_type": "markdown",
   "metadata": {},
   "source": [
    "Technically a geosynchronous satellite is one that orbits the Earth once persidereal\n",
    "day, which is 23.93 hours, not 24 hours. Why is this? And how much difference\n",
    "will it make to the altitude of the satellite?"
   ]
  },
  {
   "cell_type": "code",
   "execution_count": 26,
   "metadata": {},
   "outputs": [
    {
     "name": "stdout",
     "output_type": "stream",
     "text": [
      "39492.56533268094 m\n"
     ]
    }
   ],
   "source": [
    "# A geosynchronous satellite orbits Earth with an orbital period equal to Earth's rotational period. \n",
    "# A sidereal day is how long it takes Earth to rotate once relative to the background stars in the sky, \n",
    "# which is 23.93 hours. Therefore, the geosynchronous satellite is orbitting at this same rate.\n",
    "\n",
    "# convert time from hours to seconds\n",
    "t1 = 24 * 1200\n",
    "\n",
    "t2 = 23.93 * 1200\n",
    "\n",
    "import math\n",
    "\n",
    "g = (6.67 * (10**-11))\n",
    "m = 5.97 * 10**24\n",
    "r = 6371 *1000\n",
    "\n",
    "altitude_1 = (((g * m * (t1**2)) / (4 * (math.pi**2))) **(1/3)) - r\n",
    "altitude_sidereal = (((g * m * (t2**2)) / (4 * (math.pi**2))) **(1/3)) - r\n",
    "\n",
    "difference = altitude_1 - altitude_sidereal\n",
    "\n",
    "print(difference, 'm')\n",
    "\n",
    "# The difference between the altitudes is about 40,000 m "
   ]
  },
  {
   "cell_type": "markdown",
   "metadata": {},
   "source": [
    "### 2) Special Relativity\n",
    "\n",
    "A spaceship travels from Earth in a straight line at a (relativistic)\n",
    "speed $v$ to another planet $x$ light years away. Write a program to ask\n",
    "the user for the value of $x$ and the speed $v$ as a fraction of the speed\n",
    "of light, then print out the time in years that the spaceship takes to\n",
    "reach its destination (a) in the rest frame of an observer on Earth\n",
    "and (b) as perceived by a passenger on board the ship.\n",
    "\n",
    "$$x' = \\gamma (x - vt)$$\n",
    "\n",
    "$$t' = \\gamma \\left(t - \\frac{v x}{c^2}\\right)$$\n",
    "\n",
    "$$\\gamma = \\frac{1}{\\sqrt{1 - \\frac{v^2}{c^2}}}$$\n"
   ]
  },
  {
   "cell_type": "code",
   "execution_count": 68,
   "metadata": {},
   "outputs": [
    {
     "name": "stdout",
     "output_type": "stream",
     "text": [
      "Number of light years to another planet:10\n",
      "Speed as a fraction of the speed of light.90\n",
      "observed on earth: 11.11111111111111 years\n",
      "observed on ship: 11.111111081090343 years\n"
     ]
    }
   ],
   "source": [
    "x = float(input(\"Number of light years to another planet:\"))\n",
    "v = float(input(\"Speed as a fraction of the speed of light\"))\n",
    "c = 299792458\n",
    "t_earth = x / v\n",
    "print('observed on earth:', t_earth, 'years')\n",
    "\n",
    "y = (1) / ((1-((v**2)/(c**2))))**(1/2)\n",
    "t_ship = y*(t_earth - ((v*x)/c))\n",
    "print('observed on ship:', t_ship, 'years')"
   ]
  },
  {
   "cell_type": "markdown",
   "metadata": {},
   "source": [
    "#### Use your program to calculate the answers for a planet 10 light years away with $v = 0.90c$,  $v = 0.98c$, $v = 0.999c$."
   ]
  },
  {
   "cell_type": "code",
   "execution_count": 64,
   "metadata": {},
   "outputs": [
    {
     "name": "stdout",
     "output_type": "stream",
     "text": [
      "Number of light years to another planet:10\n",
      "Speed as a fraction of the speed of light.98\n",
      "observed on earth: 10.204081632653061 years\n",
      "observed on ship: 10.20408159996378 years\n"
     ]
    }
   ],
   "source": [
    "x = float(input(\"Number of light years to another planet:\"))\n",
    "v = float(input(\"Speed as a fraction of the speed of light\"))\n",
    "c = 299792458\n",
    "t_earth = x / v\n",
    "print('observed on earth:', t_earth, 'years')\n",
    "\n",
    "# calculate the value of gamma and plug it in to the relativistic equation\n",
    "y = (1) / ((1-((v**2)/(c**2))))**(1/2)\n",
    "# I removed one of the values of 'c' in the denominator since it will be cancelled out\n",
    "t_ship = y*(t_earth - ((v*x)/c))\n",
    "print('observed on ship:', t_ship, 'years')"
   ]
  },
  {
   "cell_type": "code",
   "execution_count": 65,
   "metadata": {},
   "outputs": [
    {
     "name": "stdout",
     "output_type": "stream",
     "text": [
      "Number of light years to another planet:10\n",
      "Speed as a fraction of the speed of light.999\n",
      "observed on earth: 10.01001001001001 years\n",
      "observed on ship: 10.010009976686957 years\n"
     ]
    }
   ],
   "source": [
    "x = float(input(\"Number of light years to another planet:\"))\n",
    "v = float(input(\"Speed as a fraction of the speed of light\"))\n",
    "c = 299792458\n",
    "t_earth = x / v\n",
    "print('observed on earth:', t_earth, 'years')\n",
    "\n",
    "y = (1) / ((1-((v**2)/(c**2))))**(1/2)\n",
    "t_ship = y*(t_earth - ((v*x)/c))\n",
    "print('observed on ship:', t_ship, 'years')"
   ]
  },
  {
   "cell_type": "markdown",
   "metadata": {},
   "source": [
    "### 3) The quadratic equation\n",
    "\n",
    " Write a program that takes as input three numbers, $a$, $b$, and $c$, and prints out the two solutions to the quadratic equation $ax^2 + bx + c = 0$ using the standard\n",
    "formula:\n",
    "\n",
    "$$x = \\frac{-b \\pm \\sqrt{b^2 - 4ac}}{2a}$$\n",
    "\n",
    "Use your program to compute the solutions of $0.001x^2 + 1000x + 0.001 = 0$."
   ]
  },
  {
   "cell_type": "code",
   "execution_count": 56,
   "metadata": {},
   "outputs": [
    {
     "name": "stdout",
     "output_type": "stream",
     "text": [
      "Input value of a:.001\n",
      "Input value of b:1000\n",
      "Input value of c:0.001\n",
      "-9.999894245993346e-07 -999999.999999\n"
     ]
    }
   ],
   "source": [
    "a = float(input(\"Input value of a:\"))\n",
    "b = int(input(\"Input value of b:\"))\n",
    "c = float(input(\"Input value of c:\"))\n",
    "\n",
    "import math\n",
    "d = math.sqrt((b**2)-(4*a*c))\n",
    "x_1 = (-b + d) / (2*a)\n",
    "x_2 = (-b - d) / (2*a)\n",
    "print(x_1,x_2)"
   ]
  },
  {
   "cell_type": "markdown",
   "metadata": {},
   "source": [
    "There is another way to write the solutions to a quadratic equation. Multiplying top and bottom of the solution above by $-b \\mp \\sqrt{b^2 - 4ac}$, show that the solutions\n",
    "can also be written as:\n",
    "\n",
    "$$x = \\frac{2c}{-b \\mp \\sqrt{b^2 - 4ac}}$$\n",
    "\n",
    "Add further lines to your program to print these values in addition to the earlier ones and again use the program to solve $0.001x^2 + 1000x + 0.001 = 0$. What do you see? How do you explain it?"
   ]
  },
  {
   "cell_type": "code",
   "execution_count": 1,
   "metadata": {},
   "outputs": [
    {
     "name": "stdout",
     "output_type": "stream",
     "text": [
      "Input value of a:.001\n",
      "Input value of b:1000\n",
      "Input value of c:.001\n",
      "-1000010.5755125057 -1.000000000001e-06\n"
     ]
    }
   ],
   "source": [
    "a = float(input(\"Input value of a:\"))\n",
    "b = int(input(\"Input value of b:\"))\n",
    "c = float(input(\"Input value of c:\"))\n",
    "\n",
    "import math\n",
    "d = math.sqrt((b**2)-(4*a*c))\n",
    "x_1b = (2*c) / (-b + d)\n",
    "x_2b = (2*c) / (-b - d)\n",
    "print(x_1b,x_2b)"
   ]
  },
  {
   "cell_type": "markdown",
   "metadata": {},
   "source": [
    "Using what you have learned, write a new program that calculates both roots of a quadratic equation accurately in all cases."
   ]
  },
  {
   "cell_type": "code",
   "execution_count": 9,
   "metadata": {},
   "outputs": [
    {
     "name": "stdout",
     "output_type": "stream",
     "text": [
      "Input value of a:.001\n",
      "Input value of b:1000\n",
      "Input value of c:.001\n"
     ]
    },
    {
     "data": {
      "text/plain": [
       "(-9.999894245993346e-07, -999999.999999)"
      ]
     },
     "execution_count": 9,
     "metadata": {},
     "output_type": "execute_result"
    }
   ],
   "source": [
    "a = float(input(\"Input value of a:\"))\n",
    "b = int(input(\"Input value of b:\"))\n",
    "c = float(input(\"Input value of c:\"))\n",
    "\n",
    "import math\n",
    "\n",
    "# If the value of b is positive, the first method will be used\n",
    "# If the value of b is negative, the second method will be used\n",
    "def root():\n",
    "    d = math.sqrt((b**2)-(4*a*c))\n",
    "    x_1 = (-b + d) / (2*a)\n",
    "    x_2 = (-b - d) / (2*a)\n",
    "    x_1b = (2*c) / (-b + d)\n",
    "    x_2b = (2*c) / (-b - d)\n",
    "    if b >= 0:\n",
    "        return(x_1,x_2)\n",
    "    elif b <= 0:\n",
    "        return(x_1b,x_2b)\n",
    "        \n",
    "root()"
   ]
  },
  {
   "cell_type": "code",
   "execution_count": null,
   "metadata": {},
   "outputs": [],
   "source": []
  }
 ],
 "metadata": {
  "kernelspec": {
   "display_name": "Python 3",
   "language": "python",
   "name": "python3"
  },
  "language_info": {
   "codemirror_mode": {
    "name": "ipython",
    "version": 3
   },
   "file_extension": ".py",
   "mimetype": "text/x-python",
   "name": "python",
   "nbconvert_exporter": "python",
   "pygments_lexer": "ipython3",
   "version": "3.8.8"
  }
 },
 "nbformat": 4,
 "nbformat_minor": 4
}
